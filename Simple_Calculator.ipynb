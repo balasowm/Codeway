{
  "nbformat": 4,
  "nbformat_minor": 0,
  "metadata": {
    "colab": {
      "provenance": [],
      "authorship_tag": "ABX9TyN23KKtB5uewiozYwP5CXq7",
      "include_colab_link": true
    },
    "kernelspec": {
      "name": "python3",
      "display_name": "Python 3"
    },
    "language_info": {
      "name": "python"
    }
  },
  "cells": [
    {
      "cell_type": "markdown",
      "metadata": {
        "id": "view-in-github",
        "colab_type": "text"
      },
      "source": [
        "<a href=\"https://colab.research.google.com/github/balasowm/Codeway/blob/main/Simple_Calculator.ipynb\" target=\"_parent\"><img src=\"https://colab.research.google.com/assets/colab-badge.svg\" alt=\"Open In Colab\"/></a>"
      ]
    },
    {
      "cell_type": "code",
      "execution_count": null,
      "metadata": {
        "colab": {
          "base_uri": "https://localhost:8080/"
        },
        "id": "nWfgE9A-ORq-",
        "outputId": "c1b9b093-c511-4ac4-990b-ed3d7ab736a6"
      },
      "outputs": [
        {
          "output_type": "stream",
          "name": "stdout",
          "text": [
            "👋 HELLO USER 👋\n",
            "**********Welcome to SIMPLE CALCULATOR 😀 ***********\n",
            "Choose your desired operation 👇:\n",
            "+: Add\n",
            "-: Subtract\n",
            "x: Multiply\n",
            "/: Divide\n",
            "%: Percentage\n",
            "//:Floor\n",
            "^: Power\n",
            "Enter choice ('+/'-'/'x'/'/'/'%'/'//'/'^'):👉  /\n",
            "Enter first number:56\n",
            "Enter second number:67\n",
            "❤️ RESULT ❤️:: 0.835820895522388\n"
          ]
        }
      ],
      "source": [
        "#SIMPLE CALCULATOR(TASK-2)\n",
        "class Calculator:\n",
        "    @staticmethod\n",
        "    def addition(x, y):\n",
        "        return x + y\n",
        "\n",
        "    @staticmethod\n",
        "    def subtraction(x, y):\n",
        "        return x - y\n",
        "\n",
        "    @staticmethod\n",
        "    def multiplication(x, y):\n",
        "        return x * y\n",
        "\n",
        "    @staticmethod\n",
        "    def division(x, y):\n",
        "        return x / y if y != 0 else \"Error! Division by zero.\"\n",
        "\n",
        "    @staticmethod\n",
        "    def percentage(x, y):\n",
        "        return x % y\n",
        "\n",
        "    @staticmethod\n",
        "    def floor(x, y):\n",
        "        return x // y\n",
        "\n",
        "    @staticmethod\n",
        "    def power(x, y):\n",
        "        return x * y\n",
        "print(\"\\U0001F44B HELLO USER \\U0001F44B\")\n",
        "\n",
        "print(\"**********Welcome to SIMPLE CALCULATOR \\U0001F600 ***********\")\n",
        "print(\"Choose your desired operation \\U0001F447:\")\n",
        "print(\"+: Add\")\n",
        "print(\"-: Subtract\")\n",
        "print(\"x: Multiply\")\n",
        "print(\"/: Divide\")\n",
        "print(\"%: Percentage\")\n",
        "print(\"//:Floor\")\n",
        "print(\"^: Power\")\n",
        "\n",
        "\n",
        "choice = input(\"Enter choice ('+/'-'/'x'/'/'/'%'/'//'/'^'):\\U0001F449  \")\n",
        "\n",
        "calculator = Calculator()\n",
        "operations = {'+': calculator.addition, '-': calculator.subtraction, 'x': calculator.multiplication, '/': calculator.division,'%': calculator.percentage, '//': calculator.floor, '^': calculator.power}\n",
        "\n",
        "if choice in operations:\n",
        "    First_number = float(input(\"Enter first number:\"))\n",
        "    Second_number = float(input(\"Enter second number:\"))\n",
        "    print(\"❤️ RESULT ❤️::\", operations[choice](First_number, Second_number))\n",
        "else:\n",
        "    print(\"Invalid input\")\n",
        "\n"
      ]
    }
  ]
}